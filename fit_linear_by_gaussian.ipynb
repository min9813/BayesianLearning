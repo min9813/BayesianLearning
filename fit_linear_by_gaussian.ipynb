{
 "cells": [
  {
   "cell_type": "markdown",
   "metadata": {},
   "source": [
    "#### 実装上の気づいたメモ\n",
    "- appendしたいならnp.append, np.hstackの中ではlist.appendが一番早い\n",
    "- zipしたいときはlistに戻さずnp.arrayのままzipするのが一番早い。np.arrayでzipしてもlistでzipしても速度は変わらない？\n",
    "- 元のデータの精度に応じてモデルエビデンスが変わってくる。\n",
    "    - 精度が大きいとき\n",
    "        - 次元によって変わってくる\n",
    "    - 精度が小さいとき\n",
    "        - データ数が少ない⇛次元数の単調現象\n",
    "            - これはデータのノイズが大きいから表現力高くしてもノイズに適合するだけ、ってことか？\n",
    "            - 数式上はΛ=λ(...)のλが大きくなるからdet|Λ*|が大きくなる\n",
    "        - データ数が大きい\n",
    "            - 次元によって変わってくる"
   ]
  },
  {
   "cell_type": "code",
   "execution_count": 192,
   "metadata": {},
   "outputs": [],
   "source": [
    "import numpy as np\n",
    "import scipy as sp\n",
    "from scipy.stats import *\n",
    "from mpl_toolkits.mplot3d import Axes3D\n",
    "import matplotlib.pyplot as plt\n",
    "import seaborn as sns\n",
    "import math\n",
    "import time\n",
    "% matplotlib inline\n",
    "\n",
    "def poly_x_vector(x, n_dim=3):\n",
    "    # out = (n_dim+1, data_size)\n",
    "    y = [x**dim for dim in range(n_dim+1)]\n",
    "    return np.array(y)\n",
    "\n",
    "def demo_linear_gaussian(seed=0, data_lam=0.5, n_dim=2):\n",
    "    np.random.seed(seed)\n",
    "    n_dim = n_dim\n",
    "    pre_w_loc = np.zeros(n_dim+1)\n",
    "    pre_w_lam = np.eye(n_dim+1)\n",
    "\n",
    "    pre_data_lam = data_lam\n",
    "\n",
    "    data_size = 50\n",
    "    x = np.random.uniform(-5,5,data_size)\n",
    "    x_ground = np.linspace(-5,5,100)\n",
    "\n",
    "    w = np.random.multivariate_normal(mean=pre_w_loc, cov=np.linalg.inv(pre_w_lam), size = 1)\n",
    "\n",
    "\n",
    "    y_mean = list(np.dot(w,poly_x_vector(x, n_dim=n_dim)).reshape(-1))\n",
    "    y = np.array([np.random.normal(_y, 1./pre_data_lam) for _y in y_mean])\n",
    "    y_ground = np.dot(w, poly_x_vector(x_ground, n_dim=n_dim))\n",
    "\n",
    "    plt.scatter(x,y, color=\"B\", alpha=0.5)\n",
    "    plt.plot(x_ground, y_ground.reshape(-1))\n",
    "    \n",
    "def y_line(x):\n",
    "    return 3*np.sin(x)\n",
    "\n",
    "def fit_linear(f, seed=0, n_dim=2, ax=None, data_size=10, data_lam = 0.3, fit_result=True):\n",
    "    np.random.seed(seed)\n",
    "    pre_w_loc = np.zeros(n_dim+1)\n",
    "    pre_w_lam = np.eye(n_dim+1)\n",
    "\n",
    "    x_data = np.random.uniform(-3,3,data_size)\n",
    "    y_data = f(x_data)\n",
    "    x_ground = np.linspace(-3,3,100)\n",
    "    y_ground = f(x_ground)\n",
    "    x_test = poly_x_vector(x_ground, n_dim=n_dim)\n",
    "\n",
    "    x_for_predict = poly_x_vector(x_data, n_dim=n_dim)\n",
    "    \n",
    "#     print(\"x_data shape:\",x_for_predict.shape)\n",
    "#     print(\"y_data shape:\", y_data.shape)\n",
    "    est_w_lam = data_lam*np.dot(x_for_predict, x_for_predict.T)+pre_w_lam\n",
    "    est_w_lam_inv = np.linalg.inv(est_w_lam)\n",
    "    _m1 = data_lam*np.sum(y_data*x_for_predict, axis=1)+np.dot(pre_w_lam,pre_w_loc)\n",
    "    est_w_loc = np.dot(est_w_lam_inv, _m1)\n",
    "    \n",
    "#     print(\"est_w_loc shape:\",est_w_loc.shape)\n",
    "#     print(\"x_test shape:\", x_test.shape)\n",
    "    est_data_loc = np.dot(est_w_loc.T,x_test)\n",
    "#     print(\"est_data_loc shape:\",est_data_loc.shape)\n",
    "    _m1 = np.dot(x_test.T, est_w_lam_inv)\n",
    "#     print(\"_m1 shape:\",_m1.shape)\n",
    "#     print(\"x_test shape:\",x_test.shape)\n",
    "    est_data_lam = 1./(1/data_lam+np.sum(_m1.T*x_test, axis=0))\n",
    "    \n",
    "#     w = np.random.multivariate_normal(mean=pre_w_loc, cov=np.linalg.inv(pre_w_lam), size = 1)\n",
    "    y_mean = est_data_loc\n",
    "    y_one_sigma = (est_data_loc+1./est_data_lam, est_data_loc-1./est_data_lam)\n",
    "\n",
    "\n",
    "    if fit_result:\n",
    "        if ax is None:\n",
    "            fig = plt.figure(figsize=(8,5))\n",
    "            ax = fig.add_subplot(111)\n",
    "        ax.scatter(x_data,y_data, color=\"black\", alpha=0.5, label=\"True Data\")\n",
    "        ax.plot(x_ground, y_ground.reshape(-1), color=\"B\", label=\"True Line\")  \n",
    "        ax.plot(x_ground, y_mean, color=\"orange\", alpha=0.5, label=\"Estimate Mean Line\")\n",
    "        ax.plot(x_ground, y_one_sigma[0], color=\"pink\", linestyle=\"dashed\", alpha=0.5)\n",
    "        ax.plot(x_ground, y_one_sigma[1], color=\"pink\", linestyle=\"dashed\", alpha=0.5)\n",
    "\n",
    "        plt.legend()\n",
    "    \n",
    "        plt.ylim(-5,5)\n",
    "        plt.title(\"dimension = {}\".format(n_dim))\n",
    "#     print(\"-------------------------------\")\n",
    "    _m1 = np.sum(data_lam*y_data**2-np.log(data_lam)+math.log(2*math.pi))\n",
    "#     print(\"_m1:\",_m1)\n",
    "    _m2 = np.dot(np.dot(pre_w_loc, pre_w_lam), pre_w_loc)-math.log(np.linalg.det(pre_w_lam))\n",
    "#     print(\"_m2:\",_m2)\n",
    "    \n",
    "    _m3 = -np.dot(np.dot(est_w_loc, est_w_lam), est_w_loc)+math.log(np.linalg.det(est_w_lam))\n",
    "#     print(\"est w lam det:\",math.log(np.linalg.det(est_w_lam)))\n",
    "#     print(\"_m3:\",_m3)\n",
    "    \n",
    "    log_model_evidence = -0.5*(_m1+_m2+_m3)\n",
    "    print(\"dim = {} model evidence:\".format(n_dim), log_model_evidence)\n",
    "    return log_model_evidence "
   ]
  },
  {
   "cell_type": "code",
   "execution_count": 187,
   "metadata": {},
   "outputs": [
    {
     "data": {
      "image/png": "[encoded data removed]",
      "text/plain": [
       "<Figure size 432x288 with 1 Axes>"
      ]
     },
     "metadata": {},
     "output_type": "display_data"
    }
   ],
   "source": [
    "demo_linear_gaussian(5, data_lam=0.3)"
   ]
  },
  {
   "cell_type": "code",
   "execution_count": 194,
   "metadata": {},
   "outputs": [
    {
     "name": "stdout",
     "output_type": "stream",
     "text": [
      "dim = 0 model evidence: -23.07333585494294\n",
      "dim = 1 model evidence: -18.29177832612657\n",
      "dim = 2 model evidence: -16.724354008588104\n",
      "dim = 3 model evidence: -17.566679914640687\n",
      "dim = 4 model evidence: -18.915507398261354\n",
      "dim = 5 model evidence: -20.747232101781844\n",
      "dim = 6 model evidence: -22.759865071797847\n",
      "dim = 7 model evidence: -24.82881058947152\n",
      "dim = 8 model evidence: -27.02908902433206\n",
      "dim = 9 model evidence: -29.241457672586307\n",
      "dim = 10 model evidence: -31.444367865277002\n"
     ]
    },
    {
     "data": {
      "text/plain": [
       "<matplotlib.legend.Legend at 0x7ff452c94940>"
      ]
     },
     "execution_count": 194,
     "metadata": {},
     "output_type": "execute_result"
    },
    {
     "data": {
      "image/png": "[encoded data removed]",
      "text/plain": [
       "<Figure size 432x288 with 1 Axes>"
      ]
     },
     "metadata": {},
     "output_type": "display_data"
    }
   ],
   "source": [
    "max_dim=10\n",
    "log_model_evidence = [fit_linear(y_line, data_size=10, n_dim=i, data_lam=1, fit_result=False) for i in range(max_dim+1)]\n",
    "\n",
    "fig = plt.figure(figsize=(6,4))\n",
    "ax = fig.add_subplot(111)\n",
    "ax.plot(range(max_dim+1), log_model_evidence, label=\"log model evidence\")\n",
    "ax.set_ylabel(\"logP(Y|X)\")\n",
    "ax.set_xlabel(\"n_dim\")\n",
    "plt.legend()"
   ]
  },
  {
   "cell_type": "markdown",
   "metadata": {},
   "source": [
    "### （補足）np.append, listのappend, np.hstackの速度比較"
   ]
  },
  {
   "cell_type": "code",
   "execution_count": 19,
   "metadata": {},
   "outputs": [
    {
     "name": "stdout",
     "output_type": "stream",
     "text": [
      "list append\n",
      "time:0.012807846069335938\n",
      "[    0     1     2 ... 99997 99998 99999]\n",
      "np.append\n",
      "time:1.439699411392212\n",
      "[0.0000e+00 1.0000e+00 2.0000e+00 ... 9.9997e+04 9.9998e+04 9.9999e+04]\n",
      "np.hstack\n",
      "time:1.5335378646850586\n",
      "[0.0000e+00 1.0000e+00 2.0000e+00 ... 9.9997e+04 9.9998e+04 9.9999e+04]\n"
     ]
    }
   ],
   "source": [
    "print(\"list append\")\n",
    "start = time.time()\n",
    "\n",
    "y = []\n",
    "for i in range(100000):\n",
    "    y.append(i)\n",
    "y = np.array(y)\n",
    "print(\"time:{}\".format(time.time()-start))\n",
    "print(y)\n",
    "print(\"np.append\")\n",
    "start = time.time()\n",
    "\n",
    "y = np.empty(0)\n",
    "for i in range(100000):\n",
    "    y = np.append(y,i)\n",
    "print(\"time:{}\".format(time.time()-start))\n",
    "print(y)\n",
    "\n",
    "print(\"np.hstack\")\n",
    "start = time.time()\n",
    "\n",
    "y = np.empty(0)\n",
    "for i in range(100000):\n",
    "    y = np.hstack([y,i])\n",
    "print(\"time:{}\".format(time.time()-start))\n",
    "print(y)"
   ]
  }
 ],
 "metadata": {
  "kernelspec": {
   "display_name": "Python 3",
   "language": "python",
   "name": "python3"
  },
  "language_info": {
   "codemirror_mode": {
    "name": "ipython",
    "version": 3
   },
   "file_extension": ".py",
   "mimetype": "text/x-python",
   "name": "python",
   "nbconvert_exporter": "python",
   "pygments_lexer": "ipython3",
   "version": "3.6.5"
  }
 },
 "nbformat": 4,
 "nbformat_minor": 2
}
